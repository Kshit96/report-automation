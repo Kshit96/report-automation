{
 "cells": [
  {
   "cell_type": "code",
   "execution_count": 34,
   "metadata": {},
   "outputs": [],
   "source": [
    "import openpyxl\n",
    "import docx\n",
    "import re\n",
    "from docx.shared import Pt\n",
    "from docx import Document\n",
    "from docx.shared import Inches\n",
    "from docx.shared import RGBColor\n",
    "from docx2pdf import convert\n",
    "import sys\n",
    "import os\n",
    "\n",
    "\n",
    "\n",
    "\n",
    "\n",
    "\n",
    "workbook = openpyxl.load_workbook(filename = '/Users/kshitizkashyap/Downloads/CHIP 5 - Evaluation Sheet(4).xlsx', data_only=True)\n",
    "academyName = \"CHIP 5\"\n",
    "classAverage = \"Class Average\"\n",
    "assignmentFive = \"Assignment 5: Wallet Dashboard\" \n",
    "assignmentSix = \"Assignment 6: Wallet Web\""
   ]
  },
  {
   "cell_type": "code",
   "execution_count": 35,
   "metadata": {},
   "outputs": [],
   "source": [
    "worksheet = workbook.worksheets[8]\n",
    "assignmentScores = {}\n",
    "for y in range(2,28):\n",
    "    score=[]\n",
    "    name=worksheet.cell(y,1).value\n",
    "    for x in range(5,10):\n",
    "        score.append(worksheet.cell(y,x).value)\n",
    "    score.append(worksheet.cell(y,12).value)\n",
    "    assignmentScores[name] = score\n"
   ]
  },
  {
   "cell_type": "code",
   "execution_count": 36,
   "metadata": {},
   "outputs": [],
   "source": [
    "def strengths_weaknesses(objectOrientedScore,tDDScore,cleanCodeScore,namingScore,aocScore):\n",
    "    scores = {1: [],2: [],3: [],4: [],5: []}\n",
    "\n",
    "    for key in scores:\n",
    "        if key==objectOrientedScore:\n",
    "            scores[key].append(\"Object Oriented Concepts\")\n",
    "        if key==tDDScore:\n",
    "            scores[key].append(\"Unit Testing & TDD\")\n",
    "        if key==cleanCodeScore:\n",
    "            scores[key].append(\"Clean Code\")\n",
    "        if key==namingScore:\n",
    "            scores[key].append(\"Naming\")\n",
    "        if key==aocScore:\n",
    "            scores[key].append(\"Application of Concepts\")\n",
    "        \n",
    "    areasOfImprovement = []\n",
    "    strengths = []\n",
    "    strengths.extend(scores[5])\n",
    "    strengths.extend(scores[4])\n",
    "    areasOfImprovement.extend(scores[1])\n",
    "        \n",
    "    if(len(strengths) == 5):\n",
    "        areasOfImprovement = [\"None\"]    \n",
    "    \n",
    "    areasOfImprovement.extend(scores[3])\n",
    "    areasOfImprovement.extend(scores[2])\n",
    "    areasOfImprovement.extend(scores[1])\n",
    "\n",
    "    if(len(areasOfImprovement) == 5):\n",
    "            strengths = [\"None\"]  \n",
    "    \n",
    "    return [strengths, areasOfImprovement]\n",
    "    "
   ]
  },
  {
   "cell_type": "code",
   "execution_count": 37,
   "metadata": {},
   "outputs": [],
   "source": [
    "def edit_text(chip_name, strengths, areasofImprovement, observations):\n",
    "    document = Document(\"/Users/kshitizkashyap/Desktop/Test.docx\")\n",
    "    for table in document.tables:\n",
    "        for row in table.rows:\n",
    "            for cell in row.cells:\n",
    "                for paragraph in cell.paragraphs:\n",
    "                    if \"{{Name}}\" in paragraph.text:\n",
    "                        font = paragraph.runs[0].font\n",
    "                        font.size=Pt(26)\n",
    "                        font.color.rgb=RGBColor(255,255,255)\n",
    "                        paragraph.runs[0].text=chip_name\n",
    "                    \n",
    "                    if \"{{Strengths}}\" in paragraph.text:\n",
    "                        paragraph.text=\"\"\n",
    "                        for strength in strengths:\n",
    "                            paragraph.text=paragraph.text + u\"\\u2022\" + \" \" + strength + \"\\n\"\n",
    "                \n",
    "                    if \"{{Improvement}}\" in paragraph.text:\n",
    "                        paragraph.text=\"\"\n",
    "                        for improvement in areasOfImprovement:\n",
    "                            paragraph.text=paragraph.text + u\"\\u2022\" + \" \" + improvement + \"\\n\"\n",
    "                \n",
    "                    if \"{{Chart}}\" in paragraph.text:\n",
    "                        paragraph.runs[0].text=\"\"\n",
    "                        print(chip_name)\n",
    "                        paragraph.runs[0].add_picture('/Users/kshitizkashyap/Desktop/Charts/' + chip_name + '.png',width=Inches(6))\n",
    "                        \n",
    "                    if \"{{Chart2}}\" in paragraph.text:\n",
    "                        paragraph.runs[0].text =\"\"\n",
    "                        paragraph.runs[0].add_picture('/Users/kshitizkashyap/Desktop/Charts/Trend ' + chip_name + '.png',width=Inches(6))\n",
    "                        \n",
    "\n",
    "    for paragraph in document.paragraphs:\n",
    "        if \"{{AssignmentName}}\" in paragraph.text:\n",
    "            paragraph.text=paragraph.text.replace(\"{{AssignmentName}}\",assignmentSix)\n",
    "        if \"{{Observations}}\" in paragraph.text:\n",
    "            paragraph.text=paragraph.text.replace(\"{{Observations}}\", observations)\n",
    "    \n",
    "    document.save(\"/Users/kshitizkashyap/Documents/Reports/\"+ chip_name +\".docx\")\n",
    "    convert(\"/Users/kshitizkashyap/Documents/Reports/\"+ chip_name +\".docx\",\"/Users/kshitizkashyap/Documents/Reports/\"+ chip_name +\".pdf\")\n",
    "    \n"
   ]
  },
  {
   "cell_type": "code",
   "execution_count": null,
   "metadata": {},
   "outputs": [],
   "source": [
    "\n"
   ]
  },
  {
   "cell_type": "code",
   "execution_count": 38,
   "metadata": {},
   "outputs": [
    {
     "name": "stdout",
     "output_type": "stream",
     "text": [
      "Aland Samuel Tiwa\n"
     ]
    },
    {
     "data": {
      "application/vnd.jupyter.widget-view+json": {
       "model_id": "a9e93ae83a904f65adf92de098908fe4",
       "version_major": 2,
       "version_minor": 0
      },
      "text/plain": [
       "HBox(children=(FloatProgress(value=0.0, max=1.0), HTML(value='')))"
      ]
     },
     "metadata": {},
     "output_type": "display_data"
    },
    {
     "name": "stdout",
     "output_type": "stream",
     "text": [
      "Alcredo Simanjuntak\n"
     ]
    },
    {
     "data": {
      "application/vnd.jupyter.widget-view+json": {
       "model_id": "de66a2f7db7b473c865ee80879c4cb8c",
       "version_major": 2,
       "version_minor": 0
      },
      "text/plain": [
       "HBox(children=(FloatProgress(value=0.0, max=1.0), HTML(value='')))"
      ]
     },
     "metadata": {},
     "output_type": "display_data"
    },
    {
     "name": "stdout",
     "output_type": "stream",
     "text": [
      "Andhika Akbar Saputra\n"
     ]
    },
    {
     "data": {
      "application/vnd.jupyter.widget-view+json": {
       "model_id": "f9c6fe2115fb4aa09ed17392aed72621",
       "version_major": 2,
       "version_minor": 0
      },
      "text/plain": [
       "HBox(children=(FloatProgress(value=0.0, max=1.0), HTML(value='')))"
      ]
     },
     "metadata": {},
     "output_type": "display_data"
    },
    {
     "name": "stdout",
     "output_type": "stream",
     "text": [
      "Arief Nur Prakoso\n"
     ]
    },
    {
     "data": {
      "application/vnd.jupyter.widget-view+json": {
       "model_id": "a51d6ae53748482f8812a2277eec0836",
       "version_major": 2,
       "version_minor": 0
      },
      "text/plain": [
       "HBox(children=(FloatProgress(value=0.0, max=1.0), HTML(value='')))"
      ]
     },
     "metadata": {},
     "output_type": "display_data"
    },
    {
     "name": "stdout",
     "output_type": "stream",
     "text": [
      "Crisandolin Desman Rumahorbo\n"
     ]
    },
    {
     "data": {
      "application/vnd.jupyter.widget-view+json": {
       "model_id": "1cb135a4faf542c18a55d34038ae75dd",
       "version_major": 2,
       "version_minor": 0
      },
      "text/plain": [
       "HBox(children=(FloatProgress(value=0.0, max=1.0), HTML(value='')))"
      ]
     },
     "metadata": {},
     "output_type": "display_data"
    },
    {
     "name": "stdout",
     "output_type": "stream",
     "text": [
      "Edwardo Barlian\n"
     ]
    },
    {
     "data": {
      "application/vnd.jupyter.widget-view+json": {
       "model_id": "73740655039d45958879e0181578aba6",
       "version_major": 2,
       "version_minor": 0
      },
      "text/plain": [
       "HBox(children=(FloatProgress(value=0.0, max=1.0), HTML(value='')))"
      ]
     },
     "metadata": {},
     "output_type": "display_data"
    },
    {
     "name": "stdout",
     "output_type": "stream",
     "text": [
      "\n"
     ]
    },
    {
     "name": "stderr",
     "output_type": "stream",
     "text": [
      "Exception in thread Thread-4:\n",
      "Traceback (most recent call last):\n",
      "  File \"/usr/local/Cellar/python/3.7.7/Frameworks/Python.framework/Versions/3.7/lib/python3.7/threading.py\", line 926, in _bootstrap_inner\n",
      "    self.run()\n",
      "  File \"/usr/local/lib/python3.7/site-packages/tqdm/_monitor.py\", line 78, in run\n",
      "    instances = self.get_instances()\n",
      "  File \"/usr/local/lib/python3.7/site-packages/tqdm/_monitor.py\", line 58, in get_instances\n",
      "    return [i for i in self.tqdm_cls._instances.copy()\n",
      "  File \"/usr/local/Cellar/python/3.7.7/Frameworks/Python.framework/Versions/3.7/lib/python3.7/_weakrefset.py\", line 92, in copy\n",
      "    return self.__class__(self)\n",
      "  File \"/usr/local/Cellar/python/3.7.7/Frameworks/Python.framework/Versions/3.7/lib/python3.7/_weakrefset.py\", line 50, in __init__\n",
      "    self.update(data)\n",
      "  File \"/usr/local/Cellar/python/3.7.7/Frameworks/Python.framework/Versions/3.7/lib/python3.7/_weakrefset.py\", line 119, in update\n",
      "    for element in other:\n",
      "  File \"/usr/local/Cellar/python/3.7.7/Frameworks/Python.framework/Versions/3.7/lib/python3.7/_weakrefset.py\", line 60, in __iter__\n",
      "    for itemref in self.data:\n",
      "RuntimeError: Set changed size during iteration\n",
      "\n"
     ]
    },
    {
     "name": "stdout",
     "output_type": "stream",
     "text": [
      "Eka Winata\n"
     ]
    },
    {
     "data": {
      "application/vnd.jupyter.widget-view+json": {
       "model_id": "d601e6aa216a4b99a326ae4ccab04122",
       "version_major": 2,
       "version_minor": 0
      },
      "text/plain": [
       "HBox(children=(FloatProgress(value=0.0, max=1.0), HTML(value='')))"
      ]
     },
     "metadata": {},
     "output_type": "display_data"
    },
    {
     "name": "stdout",
     "output_type": "stream",
     "text": [
      "Erikson Marbun\n",
      "\n"
     ]
    },
    {
     "data": {
      "application/vnd.jupyter.widget-view+json": {
       "model_id": "3a8c1fbe1666485885e94e6d3a838052",
       "version_major": 2,
       "version_minor": 0
      },
      "text/plain": [
       "HBox(children=(FloatProgress(value=0.0, max=1.0), HTML(value='')))"
      ]
     },
     "metadata": {},
     "output_type": "display_data"
    },
    {
     "name": "stdout",
     "output_type": "stream",
     "text": [
      "I Gede Bagus Artha Suryawan\n"
     ]
    },
    {
     "data": {
      "application/vnd.jupyter.widget-view+json": {
       "model_id": "555abb7d385f4387b5ccbb83fd18f07b",
       "version_major": 2,
       "version_minor": 0
      },
      "text/plain": [
       "HBox(children=(FloatProgress(value=0.0, max=1.0), HTML(value='')))"
      ]
     },
     "metadata": {},
     "output_type": "display_data"
    },
    {
     "name": "stdout",
     "output_type": "stream",
     "text": [
      "Ilham Akbar AL- Asy'ari\n",
      "\n"
     ]
    },
    {
     "data": {
      "application/vnd.jupyter.widget-view+json": {
       "model_id": "dd931eb3e03346349c49441af70ae59f",
       "version_major": 2,
       "version_minor": 0
      },
      "text/plain": [
       "HBox(children=(FloatProgress(value=0.0, max=1.0), HTML(value='')))"
      ]
     },
     "metadata": {},
     "output_type": "display_data"
    },
    {
     "name": "stdout",
     "output_type": "stream",
     "text": [
      "Jackson Fernando\n"
     ]
    },
    {
     "data": {
      "application/vnd.jupyter.widget-view+json": {
       "model_id": "a1e43a08de7545619428f2903bca0931",
       "version_major": 2,
       "version_minor": 0
      },
      "text/plain": [
       "HBox(children=(FloatProgress(value=0.0, max=1.0), HTML(value='')))"
      ]
     },
     "metadata": {},
     "output_type": "display_data"
    },
    {
     "name": "stdout",
     "output_type": "stream",
     "text": [
      "\n",
      "\n",
      "Juan Antonio Nainggolan\n"
     ]
    },
    {
     "data": {
      "application/vnd.jupyter.widget-view+json": {
       "model_id": "81b9b68bd7d74ac9afb6dbd565671e57",
       "version_major": 2,
       "version_minor": 0
      },
      "text/plain": [
       "HBox(children=(FloatProgress(value=0.0, max=1.0), HTML(value='')))"
      ]
     },
     "metadata": {},
     "output_type": "display_data"
    },
    {
     "name": "stdout",
     "output_type": "stream",
     "text": [
      "Kevin Joshua Adithia Pratama Ginting\n"
     ]
    },
    {
     "data": {
      "application/vnd.jupyter.widget-view+json": {
       "model_id": "0929a849b15648cda79649bca9b9c9e6",
       "version_major": 2,
       "version_minor": 0
      },
      "text/plain": [
       "HBox(children=(FloatProgress(value=0.0, max=1.0), HTML(value='')))"
      ]
     },
     "metadata": {},
     "output_type": "display_data"
    },
    {
     "name": "stdout",
     "output_type": "stream",
     "text": [
      "\n",
      "\n",
      "Luthfi Azhari\n"
     ]
    },
    {
     "data": {
      "application/vnd.jupyter.widget-view+json": {
       "model_id": "ae241b25c8ba41e7b85d53b1f6b79c89",
       "version_major": 2,
       "version_minor": 0
      },
      "text/plain": [
       "HBox(children=(FloatProgress(value=0.0, max=1.0), HTML(value='')))"
      ]
     },
     "metadata": {},
     "output_type": "display_data"
    },
    {
     "name": "stdout",
     "output_type": "stream",
     "text": [
      "Melati Ayuning Lestari\n",
      "\n"
     ]
    },
    {
     "data": {
      "application/vnd.jupyter.widget-view+json": {
       "model_id": "98682ffdb0fc46c9a1c6faaa11380841",
       "version_major": 2,
       "version_minor": 0
      },
      "text/plain": [
       "HBox(children=(FloatProgress(value=0.0, max=1.0), HTML(value='')))"
      ]
     },
     "metadata": {},
     "output_type": "display_data"
    },
    {
     "name": "stdout",
     "output_type": "stream",
     "text": [
      "Mohammed Hilman Trihatmojo\n"
     ]
    },
    {
     "data": {
      "application/vnd.jupyter.widget-view+json": {
       "model_id": "67f53ac5145a4431944a9d66a98fe94a",
       "version_major": 2,
       "version_minor": 0
      },
      "text/plain": [
       "HBox(children=(FloatProgress(value=0.0, max=1.0), HTML(value='')))"
      ]
     },
     "metadata": {},
     "output_type": "display_data"
    },
    {
     "name": "stdout",
     "output_type": "stream",
     "text": [
      "Muchamad Fuad\n",
      "\n"
     ]
    },
    {
     "data": {
      "application/vnd.jupyter.widget-view+json": {
       "model_id": "ede07b41404c434a9392526e16f3b31f",
       "version_major": 2,
       "version_minor": 0
      },
      "text/plain": [
       "HBox(children=(FloatProgress(value=0.0, max=1.0), HTML(value='')))"
      ]
     },
     "metadata": {},
     "output_type": "display_data"
    },
    {
     "name": "stdout",
     "output_type": "stream",
     "text": [
      "Muhammad Rayyan Abhad\n"
     ]
    },
    {
     "data": {
      "application/vnd.jupyter.widget-view+json": {
       "model_id": "1f2026937945441a9d5700f95e84e029",
       "version_major": 2,
       "version_minor": 0
      },
      "text/plain": [
       "HBox(children=(FloatProgress(value=0.0, max=1.0), HTML(value='')))"
      ]
     },
     "metadata": {},
     "output_type": "display_data"
    },
    {
     "name": "stdout",
     "output_type": "stream",
     "text": [
      "Nabil Haidarrahman Pribadi\n",
      "\n"
     ]
    },
    {
     "data": {
      "application/vnd.jupyter.widget-view+json": {
       "model_id": "daa8667736c24a49b0f979fe68657a0d",
       "version_major": 2,
       "version_minor": 0
      },
      "text/plain": [
       "HBox(children=(FloatProgress(value=0.0, max=1.0), HTML(value='')))"
      ]
     },
     "metadata": {},
     "output_type": "display_data"
    },
    {
     "name": "stdout",
     "output_type": "stream",
     "text": [
      "Nuzha Musyafira\n"
     ]
    },
    {
     "data": {
      "application/vnd.jupyter.widget-view+json": {
       "model_id": "3eed8950db0c45a58c75a5e3fb48eb20",
       "version_major": 2,
       "version_minor": 0
      },
      "text/plain": [
       "HBox(children=(FloatProgress(value=0.0, max=1.0), HTML(value='')))"
      ]
     },
     "metadata": {},
     "output_type": "display_data"
    },
    {
     "name": "stdout",
     "output_type": "stream",
     "text": [
      "\n",
      "\n",
      "Panji Satria Nugraha\n"
     ]
    },
    {
     "data": {
      "application/vnd.jupyter.widget-view+json": {
       "model_id": "ab52351a91334b5e82d44de9777b07c0",
       "version_major": 2,
       "version_minor": 0
      },
      "text/plain": [
       "HBox(children=(FloatProgress(value=0.0, max=1.0), HTML(value='')))"
      ]
     },
     "metadata": {},
     "output_type": "display_data"
    },
    {
     "name": "stdout",
     "output_type": "stream",
     "text": [
      "Rifqi Yunus Trisna Pratama\n"
     ]
    },
    {
     "data": {
      "application/vnd.jupyter.widget-view+json": {
       "model_id": "3d0ef6a7ef774abdaf5a817313dd8ef3",
       "version_major": 2,
       "version_minor": 0
      },
      "text/plain": [
       "HBox(children=(FloatProgress(value=0.0, max=1.0), HTML(value='')))"
      ]
     },
     "metadata": {},
     "output_type": "display_data"
    },
    {
     "name": "stdout",
     "output_type": "stream",
     "text": [
      "\n",
      "\n",
      "Satria Nugraha\n"
     ]
    },
    {
     "data": {
      "application/vnd.jupyter.widget-view+json": {
       "model_id": "97f0a10df1f84a1a83b846b737f2753d",
       "version_major": 2,
       "version_minor": 0
      },
      "text/plain": [
       "HBox(children=(FloatProgress(value=0.0, max=1.0), HTML(value='')))"
      ]
     },
     "metadata": {},
     "output_type": "display_data"
    },
    {
     "name": "stdout",
     "output_type": "stream",
     "text": [
      "Septian Solihin\n",
      "\n"
     ]
    },
    {
     "data": {
      "application/vnd.jupyter.widget-view+json": {
       "model_id": "5b917f8208754591b05923e51055b885",
       "version_major": 2,
       "version_minor": 0
      },
      "text/plain": [
       "HBox(children=(FloatProgress(value=0.0, max=1.0), HTML(value='')))"
      ]
     },
     "metadata": {},
     "output_type": "display_data"
    },
    {
     "name": "stdout",
     "output_type": "stream",
     "text": [
      "Sylvia Juliana\n"
     ]
    },
    {
     "data": {
      "application/vnd.jupyter.widget-view+json": {
       "model_id": "93d38b448e644b6ba252b2e2badb4853",
       "version_major": 2,
       "version_minor": 0
      },
      "text/plain": [
       "HBox(children=(FloatProgress(value=0.0, max=1.0), HTML(value='')))"
      ]
     },
     "metadata": {},
     "output_type": "display_data"
    },
    {
     "name": "stdout",
     "output_type": "stream",
     "text": [
      "Zulvan Firdaus Imanullah\n",
      "\n"
     ]
    },
    {
     "data": {
      "application/vnd.jupyter.widget-view+json": {
       "model_id": "573e5e71446e4531ae0dc8819ca780d1",
       "version_major": 2,
       "version_minor": 0
      },
      "text/plain": [
       "HBox(children=(FloatProgress(value=0.0, max=1.0), HTML(value='')))"
      ]
     },
     "metadata": {},
     "output_type": "display_data"
    }
   ],
   "source": [
    "for name in assignmentScores:\n",
    "    objectOrientedScore = assignmentScores[name][0]\n",
    "    tDDScore = assignmentScores[name][1]\n",
    "    cleanCodeScore = assignmentScores[name][2]\n",
    "    namingScore = assignmentScores[name][3]\n",
    "    aocScore = assignmentScores[name][4]\n",
    "    observations = assignmentScores[name][5]\n",
    "    result = strengths_weaknesses(objectOrientedScore,tDDScore,cleanCodeScore,namingScore,aocScore)\n",
    "    strengths = result[0]\n",
    "    areasOfImprovement = result[1]\n",
    "    \n",
    "    edit_text(name, strengths, areasOfImprovement, observations)\n"
   ]
  },
  {
   "cell_type": "code",
   "execution_count": null,
   "metadata": {},
   "outputs": [],
   "source": []
  },
  {
   "cell_type": "code",
   "execution_count": null,
   "metadata": {},
   "outputs": [],
   "source": []
  },
  {
   "cell_type": "code",
   "execution_count": null,
   "metadata": {},
   "outputs": [],
   "source": []
  },
  {
   "cell_type": "code",
   "execution_count": 194,
   "metadata": {},
   "outputs": [],
   "source": []
  },
  {
   "cell_type": "code",
   "execution_count": null,
   "metadata": {},
   "outputs": [],
   "source": []
  },
  {
   "cell_type": "code",
   "execution_count": null,
   "metadata": {},
   "outputs": [],
   "source": []
  }
 ],
 "metadata": {
  "kernelspec": {
   "display_name": "Python 2",
   "language": "python",
   "name": "python2"
  },
  "language_info": {
   "codemirror_mode": {
    "name": "ipython",
    "version": 3
   },
   "file_extension": ".py",
   "mimetype": "text/x-python",
   "name": "python",
   "nbconvert_exporter": "python",
   "pygments_lexer": "ipython3",
   "version": "3.7.7"
  }
 },
 "nbformat": 4,
 "nbformat_minor": 2
}
